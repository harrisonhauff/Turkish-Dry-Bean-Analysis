{
 "cells": [
  {
   "cell_type": "markdown",
   "id": "8f95f422-7984-4a7a-8382-752d3a48a39d",
   "metadata": {},
   "source": [
    "# A1 Hindsight - Harrison Hauff - 48832061"
   ]
  },
  {
   "cell_type": "markdown",
   "id": "a7dbe35c-a695-4b79-9179-ee58c889e37c",
   "metadata": {},
   "source": [
    "## Objectives of this Assignment"
   ]
  },
  {
   "cell_type": "markdown",
   "id": "bb7ea7cc-2433-4f74-b56e-58f5cd31cdaa",
   "metadata": {},
   "source": [
    "#### In this Assignment I will be performing Data Analysis on a Structured Dataset. This will be done through addressing 6 tasks within the dataset."
   ]
  },
  {
   "cell_type": "markdown",
   "id": "3dc19540-a6da-4400-8ad0-69e0dc1c8c3f",
   "metadata": {},
   "source": [
    "### Tasks"
   ]
  },
  {
   "cell_type": "markdown",
   "id": "886fbe66-579e-4c2c-8954-2ae2061cd8eb",
   "metadata": {},
   "source": [
    "1. Data Preperation\n",
    "2. Exploratory Data Analysis\n",
    "3. Basic Descriptive Statistics Analysis\n",
    "4. Determining Correlations\n",
    "5. Clustering\n",
    "6. Principal Component Analysis"
   ]
  },
  {
   "cell_type": "markdown",
   "id": "fe5937a2-89ed-42fc-b9c9-5b938c7143ec",
   "metadata": {},
   "source": [
    "## Task 1: Data Preperation"
   ]
  },
  {
   "cell_type": "markdown",
   "id": "a233c55c-a0ee-4903-b4df-64a3ca35d5ac",
   "metadata": {},
   "source": [
    "To begin the project I will first read the dataset, utilising the pandas python library, and determining whether there is any missing data within the dataset."
   ]
  },
  {
   "cell_type": "code",
   "execution_count": 58,
   "id": "e2ab1b61-81b1-4d9d-87c9-3223b7055939",
   "metadata": {},
   "outputs": [
    {
     "data": {
      "text/html": [
       "<div>\n",
       "<style scoped>\n",
       "    .dataframe tbody tr th:only-of-type {\n",
       "        vertical-align: middle;\n",
       "    }\n",
       "\n",
       "    .dataframe tbody tr th {\n",
       "        vertical-align: top;\n",
       "    }\n",
       "\n",
       "    .dataframe thead th {\n",
       "        text-align: right;\n",
       "    }\n",
       "</style>\n",
       "<table border=\"1\" class=\"dataframe\">\n",
       "  <thead>\n",
       "    <tr style=\"text-align: right;\">\n",
       "      <th></th>\n",
       "      <th>Area</th>\n",
       "      <th>Perimeter</th>\n",
       "      <th>MajorAxisLength</th>\n",
       "      <th>MinorAxisLength</th>\n",
       "      <th>AspectRation</th>\n",
       "      <th>Eccentricity</th>\n",
       "      <th>ConvexArea</th>\n",
       "      <th>EquivDiameter</th>\n",
       "      <th>Extent</th>\n",
       "      <th>Solidity</th>\n",
       "      <th>roundness</th>\n",
       "      <th>Compactness</th>\n",
       "      <th>ShapeFactor1</th>\n",
       "      <th>ShapeFactor2</th>\n",
       "      <th>ShapeFactor3</th>\n",
       "      <th>ShapeFactor4</th>\n",
       "      <th>Class</th>\n",
       "    </tr>\n",
       "  </thead>\n",
       "  <tbody>\n",
       "    <tr>\n",
       "      <th>0</th>\n",
       "      <td>28395</td>\n",
       "      <td>610.291</td>\n",
       "      <td>208.178117</td>\n",
       "      <td>173.888747</td>\n",
       "      <td>1.197191</td>\n",
       "      <td>0.549812</td>\n",
       "      <td>28715.0</td>\n",
       "      <td>190.141097</td>\n",
       "      <td>0.763923</td>\n",
       "      <td>0.988856</td>\n",
       "      <td>0.958027126</td>\n",
       "      <td>0.913358</td>\n",
       "      <td>0.007332</td>\n",
       "      <td>0.003147</td>\n",
       "      <td>0.834222</td>\n",
       "      <td>0.998724</td>\n",
       "      <td>SEKER</td>\n",
       "    </tr>\n",
       "    <tr>\n",
       "      <th>1</th>\n",
       "      <td>28734</td>\n",
       "      <td>638.018</td>\n",
       "      <td>200.524796</td>\n",
       "      <td>182.734419</td>\n",
       "      <td>1.097356</td>\n",
       "      <td>0.411785</td>\n",
       "      <td>29172.0</td>\n",
       "      <td>191.272751</td>\n",
       "      <td>0.783968</td>\n",
       "      <td>0.984986</td>\n",
       "      <td>0.887033637</td>\n",
       "      <td>0.953861</td>\n",
       "      <td>0.006979</td>\n",
       "      <td>0.003564</td>\n",
       "      <td>0.909851</td>\n",
       "      <td>0.998430</td>\n",
       "      <td>SEKER</td>\n",
       "    </tr>\n",
       "    <tr>\n",
       "      <th>2</th>\n",
       "      <td>29380</td>\n",
       "      <td>624.110</td>\n",
       "      <td>212.826130</td>\n",
       "      <td>175.931143</td>\n",
       "      <td>1.209713</td>\n",
       "      <td>0.562727</td>\n",
       "      <td>29690.0</td>\n",
       "      <td>193.410904</td>\n",
       "      <td>0.778113</td>\n",
       "      <td>0.989559</td>\n",
       "      <td>0.947849473</td>\n",
       "      <td>0.908774</td>\n",
       "      <td>0.007244</td>\n",
       "      <td>0.003048</td>\n",
       "      <td>0.825871</td>\n",
       "      <td>0.999066</td>\n",
       "      <td>SEKER</td>\n",
       "    </tr>\n",
       "    <tr>\n",
       "      <th>3</th>\n",
       "      <td>30008</td>\n",
       "      <td>645.884</td>\n",
       "      <td>210.557999</td>\n",
       "      <td>182.516516</td>\n",
       "      <td>1.153638</td>\n",
       "      <td>0.498616</td>\n",
       "      <td>30724.0</td>\n",
       "      <td>195.467062</td>\n",
       "      <td>0.782681</td>\n",
       "      <td>0.976696</td>\n",
       "      <td>0.903936374</td>\n",
       "      <td>0.928329</td>\n",
       "      <td>0.007017</td>\n",
       "      <td>0.003215</td>\n",
       "      <td>0.861794</td>\n",
       "      <td>0.994199</td>\n",
       "      <td>SEKER</td>\n",
       "    </tr>\n",
       "    <tr>\n",
       "      <th>4</th>\n",
       "      <td>30140</td>\n",
       "      <td>620.134</td>\n",
       "      <td>201.847882</td>\n",
       "      <td>190.279279</td>\n",
       "      <td>1.060798</td>\n",
       "      <td>0.333680</td>\n",
       "      <td>30417.0</td>\n",
       "      <td>195.896503</td>\n",
       "      <td>0.773098</td>\n",
       "      <td>0.990893</td>\n",
       "      <td>0.984877069</td>\n",
       "      <td>0.970516</td>\n",
       "      <td>0.006697</td>\n",
       "      <td>0.003665</td>\n",
       "      <td>0.941900</td>\n",
       "      <td>0.999166</td>\n",
       "      <td>SEKER</td>\n",
       "    </tr>\n",
       "  </tbody>\n",
       "</table>\n",
       "</div>"
      ],
      "text/plain": [
       "    Area  Perimeter  MajorAxisLength  MinorAxisLength  AspectRation  \\\n",
       "0  28395    610.291       208.178117       173.888747      1.197191   \n",
       "1  28734    638.018       200.524796       182.734419      1.097356   \n",
       "2  29380    624.110       212.826130       175.931143      1.209713   \n",
       "3  30008    645.884       210.557999       182.516516      1.153638   \n",
       "4  30140    620.134       201.847882       190.279279      1.060798   \n",
       "\n",
       "   Eccentricity  ConvexArea  EquivDiameter    Extent  Solidity    roundness  \\\n",
       "0      0.549812     28715.0     190.141097  0.763923  0.988856  0.958027126   \n",
       "1      0.411785     29172.0     191.272751  0.783968  0.984986  0.887033637   \n",
       "2      0.562727     29690.0     193.410904  0.778113  0.989559  0.947849473   \n",
       "3      0.498616     30724.0     195.467062  0.782681  0.976696  0.903936374   \n",
       "4      0.333680     30417.0     195.896503  0.773098  0.990893  0.984877069   \n",
       "\n",
       "   Compactness  ShapeFactor1  ShapeFactor2  ShapeFactor3  ShapeFactor4  Class  \n",
       "0     0.913358      0.007332      0.003147      0.834222      0.998724  SEKER  \n",
       "1     0.953861      0.006979      0.003564      0.909851      0.998430  SEKER  \n",
       "2     0.908774      0.007244      0.003048      0.825871      0.999066  SEKER  \n",
       "3     0.928329      0.007017      0.003215      0.861794      0.994199  SEKER  \n",
       "4     0.970516      0.006697      0.003665      0.941900      0.999166  SEKER  "
      ]
     },
     "execution_count": 58,
     "metadata": {},
     "output_type": "execute_result"
    }
   ],
   "source": [
    "import pandas as pd\n",
    "\n",
    "bean_information = pd.read_csv(\"Drybean_dataset_2025.csv\")\n",
    "\n",
    "bean_information.head()"
   ]
  },
  {
   "cell_type": "code",
   "execution_count": 59,
   "id": "a9f6c63d-bd92-4796-869b-aa1fc846673f",
   "metadata": {},
   "outputs": [
    {
     "name": "stdout",
     "output_type": "stream",
     "text": [
      "<class 'pandas.core.frame.DataFrame'>\n",
      "RangeIndex: 3871 entries, 0 to 3870\n",
      "Data columns (total 17 columns):\n",
      " #   Column           Non-Null Count  Dtype  \n",
      "---  ------           --------------  -----  \n",
      " 0   Area             3860 non-null   object \n",
      " 1   Perimeter        3870 non-null   float64\n",
      " 2   MajorAxisLength  3869 non-null   float64\n",
      " 3   MinorAxisLength  3870 non-null   float64\n",
      " 4   AspectRation     3869 non-null   float64\n",
      " 5   Eccentricity     3871 non-null   float64\n",
      " 6   ConvexArea       3870 non-null   float64\n",
      " 7   EquivDiameter    3867 non-null   float64\n",
      " 8   Extent           3870 non-null   float64\n",
      " 9   Solidity         3870 non-null   float64\n",
      " 10  roundness        3871 non-null   object \n",
      " 11  Compactness      3870 non-null   float64\n",
      " 12  ShapeFactor1     3870 non-null   float64\n",
      " 13  ShapeFactor2     3870 non-null   float64\n",
      " 14  ShapeFactor3     3869 non-null   float64\n",
      " 15  ShapeFactor4     3870 non-null   float64\n",
      " 16  Class            3870 non-null   object \n",
      "dtypes: float64(14), object(3)\n",
      "memory usage: 514.2+ KB\n"
     ]
    }
   ],
   "source": [
    "bean_information.info()"
   ]
  },
  {
   "cell_type": "markdown",
   "id": "1a0173da-c979-4f07-8fbd-c81628200b5d",
   "metadata": {},
   "source": [
    "Given we have 3871 entries, we can see that some attributes have missing values, to get an exact count we'll utilise pandas to sum up the total amount of times where an entry is null. "
   ]
  },
  {
   "cell_type": "code",
   "execution_count": 60,
   "id": "3dfff9d1-a766-4ec6-a6a8-22ad2ba0b407",
   "metadata": {},
   "outputs": [
    {
     "data": {
      "text/plain": [
       "Area               11\n",
       "Perimeter           1\n",
       "MajorAxisLength     2\n",
       "MinorAxisLength     1\n",
       "AspectRation        2\n",
       "Eccentricity        0\n",
       "ConvexArea          1\n",
       "EquivDiameter       4\n",
       "Extent              1\n",
       "Solidity            1\n",
       "roundness           0\n",
       "Compactness         1\n",
       "ShapeFactor1        1\n",
       "ShapeFactor2        1\n",
       "ShapeFactor3        2\n",
       "ShapeFactor4        1\n",
       "Class               1\n",
       "dtype: int64"
      ]
     },
     "execution_count": 60,
     "metadata": {},
     "output_type": "execute_result"
    }
   ],
   "source": [
    "bean_information.isna().sum()"
   ]
  },
  {
   "cell_type": "markdown",
   "id": "2c80f833-2ff7-43bd-b81d-8692d4fd7f5e",
   "metadata": {},
   "source": [
    "As evident above, we do have characteristics missing only a few entries, while Eccentricity and Roundness both have no missing entries. Although these columns are only missing a few entries, I thought it would be appropriate to impute the missing data using the known data, doing this preserves the rows while maintaining a fair estimate which can still be insightful for our data analysis. "
   ]
  },
  {
   "cell_type": "markdown",
   "id": "21805fd6-0016-4945-9e5e-364196bf7c26",
   "metadata": {},
   "source": [
    "First we'll compute the mean of the non-missing values for Area as it has the most missing values of any attribute in the dataset. Doing this requires us to convert the Area values from a string to an integer. "
   ]
  },
  {
   "cell_type": "code",
   "execution_count": 61,
   "id": "60c7a01f-a616-4121-a277-76f1acd040b8",
   "metadata": {},
   "outputs": [],
   "source": [
    "# Convert to numeric safely\n",
    "bean_information[\"Area\"] = pd.to_numeric(bean_information[\"Area\"], errors=\"coerce\")\n",
    "\n",
    "# Compute mean and round it\n",
    "non_missing_area_mean = round(bean_information[\"Area\"].mean())\n",
    "\n",
    "# Fill missing values with the rounded mean\n",
    "bean_information[\"Area\"] = bean_information[\"Area\"].fillna(non_missing_area_mean)\n"
   ]
  },
  {
   "cell_type": "markdown",
   "id": "2eb48d74-ea7b-4f37-a7a7-eeecac7ce67f",
   "metadata": {},
   "source": [
    "We'll check if imputing these values was successful in removing any empty columns. "
   ]
  },
  {
   "cell_type": "code",
   "execution_count": 62,
   "id": "3aac67dd-3cc7-4e1a-a7ff-e6aef74cd41e",
   "metadata": {},
   "outputs": [
    {
     "data": {
      "text/plain": [
       "Area               0\n",
       "Perimeter          1\n",
       "MajorAxisLength    2\n",
       "MinorAxisLength    1\n",
       "AspectRation       2\n",
       "Eccentricity       0\n",
       "ConvexArea         1\n",
       "EquivDiameter      4\n",
       "Extent             1\n",
       "Solidity           1\n",
       "roundness          0\n",
       "Compactness        1\n",
       "ShapeFactor1       1\n",
       "ShapeFactor2       1\n",
       "ShapeFactor3       2\n",
       "ShapeFactor4       1\n",
       "Class              1\n",
       "dtype: int64"
      ]
     },
     "execution_count": 62,
     "metadata": {},
     "output_type": "execute_result"
    }
   ],
   "source": [
    "# verify that missing values are imputed in Area\n",
    "bean_information.isna().sum()"
   ]
  },
  {
   "cell_type": "markdown",
   "id": "222cf4e6-00e8-4ccd-af15-28a32b181bbb",
   "metadata": {},
   "source": [
    "If we apply this to the rest of the attributes in the dataset."
   ]
  },
  {
   "cell_type": "markdown",
   "id": "b9143521-265a-448e-a4d6-47a5afeebccd",
   "metadata": {},
   "source": [
    "#### Perimeter"
   ]
  },
  {
   "cell_type": "code",
   "execution_count": 63,
   "id": "738045e8-5b9d-4cda-a46c-a5dee6660abd",
   "metadata": {},
   "outputs": [],
   "source": [
    "bean_information[\"Perimeter\"] = pd.to_numeric(bean_information[\"Perimeter\"], errors=\"coerce\")\n",
    "\n",
    "non_missing_perimeter_mean = bean_information[\"Perimeter\"].mean()\n",
    "\n",
    "bean_information[\"Perimeter\"] = bean_information[\"Perimeter\"].fillna(non_missing_perimeter_mean)"
   ]
  },
  {
   "cell_type": "markdown",
   "id": "f12e955b-f438-499d-b463-f7818a581f30",
   "metadata": {},
   "source": [
    "#### Major Axis Length"
   ]
  },
  {
   "cell_type": "code",
   "execution_count": 67,
   "id": "7dcf3abb-23fa-456f-b825-1196edb67322",
   "metadata": {},
   "outputs": [],
   "source": [
    "bean_information[\"MajorAxisLength\"] = pd.to_numeric(bean_information[\"MajorAxisLength\"], errors=\"coerce\")\n",
    "\n",
    "non_missing_MAL_mean = bean_information[\"MajorAxisLength\"].mean()\n",
    "\n",
    "bean_information[\"MajorAxisLength\"] = bean_information[\"MajorAxisLength\"].fillna(non_missing_MAL_mean)"
   ]
  },
  {
   "cell_type": "markdown",
   "id": "5443c492-da86-4756-ae09-66a660e82211",
   "metadata": {},
   "source": [
    "#### Minor Axis Length"
   ]
  },
  {
   "cell_type": "code",
   "execution_count": 68,
   "id": "1f2d1fa6-2462-43e1-84be-07ec4b20b99b",
   "metadata": {},
   "outputs": [],
   "source": [
    "bean_information[\"MinorAxisLength\"] = pd.to_numeric(bean_information[\"MinorAxisLength\"], errors=\"coerce\")\n",
    "\n",
    "non_missing_MAL_mean = bean_information[\"MinorAxisLength\"].mean()\n",
    "\n",
    "bean_information[\"MinorAxisLength\"] = bean_information[\"MinorAxisLength\"].fillna(non_missing_MAL_mean)"
   ]
  },
  {
   "cell_type": "markdown",
   "id": "23488b1f-d786-4d6e-9deb-a3cf0a6a04a6",
   "metadata": {},
   "source": [
    "#### Aspect Ratio n"
   ]
  },
  {
   "cell_type": "code",
   "execution_count": 69,
   "id": "b64b9b91-3059-4023-bd45-fe51508fe860",
   "metadata": {},
   "outputs": [],
   "source": [
    "bean_information[\"AspectRation\"] = pd.to_numeric(bean_information[\"AspectRation\"], errors=\"coerce\")\n",
    "\n",
    "non_missing_ASN_mean = bean_information[\"AspectRation\"].mean()\n",
    "\n",
    "bean_information[\"AspectRation\"] = bean_information[\"AspectRation\"].fillna(non_missing_ASN_mean)"
   ]
  },
  {
   "cell_type": "markdown",
   "id": "107a07ed-ce8f-47c2-9f2d-8b400798f486",
   "metadata": {},
   "source": [
    "#### Convex Area"
   ]
  },
  {
   "cell_type": "code",
   "execution_count": 70,
   "id": "b8015f65-9785-4ba7-832a-c2b870e70c6a",
   "metadata": {},
   "outputs": [],
   "source": [
    "bean_information[\"ConvexArea\"] = pd.to_numeric(bean_information[\"ConvexArea\"], errors=\"coerce\")\n",
    "\n",
    "non_missing_CA_mean = bean_information[\"ConvexArea\"].mean()\n",
    "\n",
    "bean_information[\"ConvexArea\"] = bean_information[\"ConvexArea\"].fillna(non_missing_CA_mean)"
   ]
  },
  {
   "cell_type": "markdown",
   "id": "f9eced85-4532-4a91-b79a-47981cebde9e",
   "metadata": {},
   "source": [
    "#### Equiv Diameter"
   ]
  },
  {
   "cell_type": "code",
   "execution_count": 71,
   "id": "1932a146-ab5d-4bec-bc49-698fee73b594",
   "metadata": {},
   "outputs": [],
   "source": [
    "bean_information[\"EquivDiameter\"] = pd.to_numeric(bean_information[\"EquivDiameter\"], errors=\"coerce\")\n",
    "\n",
    "non_missing_ED_mean = bean_information[\"EquivDiameter\"].mean()\n",
    "\n",
    "bean_information[\"EquivDiameter\"] = bean_information[\"EquivDiameter\"].fillna(non_missing_ED_mean)"
   ]
  },
  {
   "cell_type": "markdown",
   "id": "f4981aff-da48-495b-841f-dbb5b0da705c",
   "metadata": {},
   "source": [
    "#### Extent"
   ]
  },
  {
   "cell_type": "code",
   "execution_count": 72,
   "id": "f850325f-5c20-46c4-aa7e-b0dead12f051",
   "metadata": {},
   "outputs": [],
   "source": [
    "bean_information[\"Extent\"] = pd.to_numeric(bean_information[\"Extent\"], errors=\"coerce\")\n",
    "\n",
    "non_missing_extent_mean = bean_information[\"Extent\"].mean()\n",
    "\n",
    "bean_information[\"Extent\"] = bean_information[\"Extent\"].fillna(non_missing_extent_mean)"
   ]
  },
  {
   "cell_type": "markdown",
   "id": "909f19e6-741d-4b3c-8286-080d5a4eabfe",
   "metadata": {},
   "source": [
    "#### Solidity"
   ]
  },
  {
   "cell_type": "code",
   "execution_count": 73,
   "id": "8f44584c-3797-4d91-a697-60527299d18b",
   "metadata": {},
   "outputs": [],
   "source": [
    "bean_information[\"Solidity\"] = pd.to_numeric(bean_information[\"Solidity\"], errors=\"coerce\")\n",
    "\n",
    "non_missing_solidity_mean = bean_information[\"Solidity\"].mean()\n",
    "\n",
    "bean_information[\"Solidity\"] = bean_information[\"Solidity\"].fillna(non_missing_solidity_mean)"
   ]
  },
  {
   "cell_type": "markdown",
   "id": "acaf1aa9-5341-427d-adfd-cbe52b72777b",
   "metadata": {},
   "source": [
    "#### Compactness"
   ]
  },
  {
   "cell_type": "code",
   "execution_count": 74,
   "id": "2f68326d-842b-4d92-a8fa-a4846b688a5b",
   "metadata": {},
   "outputs": [],
   "source": [
    "bean_information[\"Compactness\"] = pd.to_numeric(bean_information[\"Compactness\"], errors=\"coerce\")\n",
    "\n",
    "non_missing_compactness_mean = bean_information[\"Compactness\"].mean()\n",
    "\n",
    "bean_information[\"Compactness\"] = bean_information[\"Compactness\"].fillna(non_missing_compactness_mean)"
   ]
  },
  {
   "cell_type": "markdown",
   "id": "4086c4b6-61e3-482d-a6ba-5f9660edc176",
   "metadata": {},
   "source": [
    "#### Shape Factor's 1, 2, 3, 4"
   ]
  },
  {
   "cell_type": "code",
   "execution_count": 75,
   "id": "8a27bb7c-7a77-4ade-a880-9bb39f93065e",
   "metadata": {},
   "outputs": [],
   "source": [
    "# Shape Factor 1\n",
    "bean_information[\"ShapeFactor1\"] = pd.to_numeric(bean_information[\"ShapeFactor1\"], errors=\"coerce\")\n",
    "\n",
    "non_missing_SF1_mean = bean_information[\"ShapeFactor1\"].mean()\n",
    "\n",
    "bean_information[\"ShapeFactor1\"] = bean_information[\"ShapeFactor1\"].fillna(non_missing_SF1_mean)\n",
    "\n",
    "# Shape Factor 2\n",
    "\n",
    "bean_information[\"ShapeFactor2\"] = pd.to_numeric(bean_information[\"ShapeFactor2\"], errors=\"coerce\")\n",
    "\n",
    "non_missing_SF2_mean = bean_information[\"ShapeFactor2\"].mean()\n",
    "\n",
    "bean_information[\"ShapeFactor2\"] = bean_information[\"ShapeFactor2\"].fillna(non_missing_SF2_mean)\n",
    "\n",
    "# Shape Factor 3\n",
    "\n",
    "bean_information[\"ShapeFactor3\"] = pd.to_numeric(bean_information[\"ShapeFactor3\"], errors=\"coerce\")\n",
    "\n",
    "non_missing_SF3_mean = bean_information[\"ShapeFactor3\"].mean()\n",
    "\n",
    "bean_information[\"ShapeFactor3\"] = bean_information[\"ShapeFactor3\"].fillna(non_missing_SF3_mean)\n",
    "\n",
    "# Shape Factor 4\n",
    "\n",
    "bean_information[\"ShapeFactor4\"] = pd.to_numeric(bean_information[\"ShapeFactor4\"], errors=\"coerce\")\n",
    "\n",
    "non_missing_SF4_mean = bean_information[\"ShapeFactor4\"].mean()\n",
    "\n",
    "bean_information[\"ShapeFactor4\"] = bean_information[\"ShapeFactor4\"].fillna(non_missing_SF4_mean)\n",
    "\n"
   ]
  },
  {
   "cell_type": "code",
   "execution_count": 76,
   "id": "e11bd4d5-b2be-4bcd-9b1d-a2a69b996cda",
   "metadata": {},
   "outputs": [
    {
     "data": {
      "text/plain": [
       "Area               0\n",
       "Perimeter          0\n",
       "MajorAxisLength    0\n",
       "MinorAxisLength    0\n",
       "AspectRation       0\n",
       "Eccentricity       0\n",
       "ConvexArea         0\n",
       "EquivDiameter      0\n",
       "Extent             0\n",
       "Solidity           0\n",
       "roundness          0\n",
       "Compactness        0\n",
       "ShapeFactor1       0\n",
       "ShapeFactor2       0\n",
       "ShapeFactor3       0\n",
       "ShapeFactor4       0\n",
       "Class              1\n",
       "dtype: int64"
      ]
     },
     "execution_count": 76,
     "metadata": {},
     "output_type": "execute_result"
    }
   ],
   "source": [
    "bean_information.isna().sum()"
   ]
  },
  {
   "cell_type": "markdown",
   "id": "1c8ca6df-d457-458e-a3a0-1020d3a86c9b",
   "metadata": {},
   "source": [
    "Given that class is not a numerical data type and is fact a categorical type, I decided it was necessary to delete this row as a mean estimation cannot be made regarding its value, and additionally it is only 1 row and will not have massive ramifications on the information gained from the data. "
   ]
  },
  {
   "cell_type": "markdown",
   "id": "3f00e135-53ae-4b2e-8b7b-d371e394759c",
   "metadata": {},
   "source": [
    "#### Class"
   ]
  },
  {
   "cell_type": "code",
   "execution_count": 78,
   "id": "208677ce-33cf-498a-92c8-f02d3e59b20d",
   "metadata": {},
   "outputs": [],
   "source": [
    "bean_information = bean_information[bean_information['Class'].notna()]"
   ]
  },
  {
   "cell_type": "markdown",
   "id": "39c43401-6e72-47de-a6b4-002f128813ff",
   "metadata": {},
   "source": [
    "#### Final Cleaned Dataset"
   ]
  },
  {
   "cell_type": "code",
   "execution_count": 79,
   "id": "b1fc5f42-c21a-48e6-a726-679d069c280b",
   "metadata": {},
   "outputs": [
    {
     "data": {
      "text/plain": [
       "Area               0\n",
       "Perimeter          0\n",
       "MajorAxisLength    0\n",
       "MinorAxisLength    0\n",
       "AspectRation       0\n",
       "Eccentricity       0\n",
       "ConvexArea         0\n",
       "EquivDiameter      0\n",
       "Extent             0\n",
       "Solidity           0\n",
       "roundness          0\n",
       "Compactness        0\n",
       "ShapeFactor1       0\n",
       "ShapeFactor2       0\n",
       "ShapeFactor3       0\n",
       "ShapeFactor4       0\n",
       "Class              0\n",
       "dtype: int64"
      ]
     },
     "execution_count": 79,
     "metadata": {},
     "output_type": "execute_result"
    }
   ],
   "source": [
    "bean_information.isna().sum()"
   ]
  },
  {
   "cell_type": "markdown",
   "id": "86f77881-90ab-4612-a09a-849d13a12d38",
   "metadata": {},
   "source": [
    "## Task 2: Exploratory Data Analysis"
   ]
  },
  {
   "cell_type": "markdown",
   "id": "626f4af0-62d4-4e8b-b1da-d698cfe9cd00",
   "metadata": {},
   "source": [
    "The purpose of exploratory data analysis (EDA) is to gather an understanding of the datas main characteristics through the use of descriptive statistics and data visualisation."
   ]
  },
  {
   "cell_type": "markdown",
   "id": "c10182d6-a637-405d-beda-f50033aa807d",
   "metadata": {},
   "source": [
    "### Univariate EDA"
   ]
  },
  {
   "cell_type": "markdown",
   "id": "20e1f869-1b9e-43b5-92ac-663dddba04f3",
   "metadata": {},
   "source": [
    "Univariate analysis explores columns/characteristics in isolation in order to ascertain their distribution."
   ]
  },
  {
   "cell_type": "markdown",
   "id": "7258786a-0004-400b-81f5-125a4a247ef6",
   "metadata": {},
   "source": [
    "Since we have already have dealt with missing values, we can use the univariate EDA to determine duplicates or outliers within the dataset"
   ]
  },
  {
   "cell_type": "markdown",
   "id": "c72cb198-92f0-4abf-84d8-a4898ab884d4",
   "metadata": {},
   "source": [
    "### Area Univariate EDA"
   ]
  },
  {
   "cell_type": "code",
   "execution_count": 83,
   "id": "c0e32d12-8eb9-46db-8131-d2c836ebcb5f",
   "metadata": {},
   "outputs": [
    {
     "data": {
      "text/plain": [
       "count      3870.000000\n",
       "mean      68051.156072\n",
       "std       45042.046213\n",
       "min       28395.000000\n",
       "25%       38948.500000\n",
       "50%       48384.500000\n",
       "75%       73233.000000\n",
       "max      254616.000000\n",
       "Name: Area, dtype: float64"
      ]
     },
     "execution_count": 83,
     "metadata": {},
     "output_type": "execute_result"
    }
   ],
   "source": [
    "bean_information[\"Area\"].describe()"
   ]
  },
  {
   "cell_type": "markdown",
   "id": "111637ac-9d8d-47e0-b719-aaad4697c22b",
   "metadata": {},
   "source": [
    "It can be observed from the results above that we may have a signifficant skew in our area values, this is due to the mean and median being signifficantly different, with the mean being 68051.16 and median being 48384.5. Additionally if we use the formula for z scores, we can determine how far the max and min values are from the mean based on the standard deviation.  "
   ]
  },
  {
   "cell_type": "code",
   "execution_count": 84,
   "id": "535951d3-2cab-49b0-a54f-10465a226179",
   "metadata": {},
   "outputs": [
    {
     "name": "stdout",
     "output_type": "stream",
     "text": [
      "4.142015286022992\n"
     ]
    }
   ],
   "source": [
    "area_mean = 68051.156072\n",
    "area_std = 45042.046213\n",
    "area_max = 254616.00\n",
    "\n",
    "max_z_score = ((area_max - area_mean)/area_std)\n",
    "print(max_z_score)"
   ]
  },
  {
   "cell_type": "markdown",
   "id": "aee4b049-2fa7-4522-b5c4-5ff45aacaec2",
   "metadata": {},
   "source": [
    "If we compare this to the min area from the same dataset."
   ]
  },
  {
   "cell_type": "code",
   "execution_count": 85,
   "id": "1342bdbd-47ef-40ca-9019-0b2ec8e11773",
   "metadata": {},
   "outputs": [
    {
     "name": "stdout",
     "output_type": "stream",
     "text": [
      "0.8804252782937394\n"
     ]
    }
   ],
   "source": [
    "area_mean = 68051.156072\n",
    "area_std = 45042.046213\n",
    "area_min = 28395.000000\n",
    "\n",
    "min_z_score = ((area_mean - area_min)/area_std)\n",
    "print(min_z_score)"
   ]
  },
  {
   "cell_type": "markdown",
   "id": "357d9883-8aa4-458f-901b-9e9500b37667",
   "metadata": {},
   "source": [
    "With the max z score being 4.14 standard deviations away from the mean, and the min only being 0.88 standard deviations away, it is clear there is a clear data quality issue present. If we count the amount of entries above a certain threshold we can determine if this disparity is due to an issue or a characteristic of the dataset."
   ]
  },
  {
   "cell_type": "code",
   "execution_count": 90,
   "id": "28b570f5-d96a-4e90-b3cf-06e728e72b7a",
   "metadata": {},
   "outputs": [
    {
     "name": "stdout",
     "output_type": "stream",
     "text": [
      "60\n"
     ]
    }
   ],
   "source": [
    "# say we set the threshold to 3 standard deviations above the mean to start with\n",
    "area_mean = 68051.156072\n",
    "area_std = 45042.046213\n",
    "threshold = area_mean + 3*area_std\n",
    "\n",
    "outliers = (bean_information['Area'] > threshold).sum()\n",
    "print(outliers)"
   ]
  },
  {
   "cell_type": "markdown",
   "id": "6bf4c3f7-39df-4cb4-925a-0235e6d2de6e",
   "metadata": {},
   "source": [
    "### Perimeter Univariate EDA"
   ]
  },
  {
   "cell_type": "code",
   "execution_count": null,
   "id": "3d8af28c-8340-412f-8ffc-1e395a56a9fa",
   "metadata": {},
   "outputs": [],
   "source": []
  }
 ],
 "metadata": {
  "kernelspec": {
   "display_name": "Python 3 (ipykernel)",
   "language": "python",
   "name": "python3"
  },
  "language_info": {
   "codemirror_mode": {
    "name": "ipython",
    "version": 3
   },
   "file_extension": ".py",
   "mimetype": "text/x-python",
   "name": "python",
   "nbconvert_exporter": "python",
   "pygments_lexer": "ipython3",
   "version": "3.12.3"
  }
 },
 "nbformat": 4,
 "nbformat_minor": 5
}
